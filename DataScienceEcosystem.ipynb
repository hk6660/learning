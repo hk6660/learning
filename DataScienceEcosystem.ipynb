{
 "cells": [
  {
   "cell_type": "markdown",
   "id": "e9545e3d-b37f-490a-a42c-5d82597c0f85",
   "metadata": {},
   "source": [
    "# Data Science Tools and Ecosystem"
   ]
  },
  {
   "cell_type": "markdown",
   "id": "e2961abd-28b7-40ed-a6ad-cc22eebdef46",
   "metadata": {},
   "source": [
    "In this notebook, Data Science Tools and Ecosystem are summarized."
   ]
  },
  {
   "cell_type": "markdown",
   "id": "39d0f498-4f8d-4dd6-9b93-05956c28d05e",
   "metadata": {},
   "source": [
    "** Objectives **\n",
    "* python\n",
    "* SQL\n",
    "* R\n",
    "* Julia\n"
   ]
  },
  {
   "cell_type": "markdown",
   "id": "a6f55a89-90d0-4e36-9c63-48c60d90b886",
   "metadata": {},
   "source": [
    "Some of the popular Languages that Data Scientists use are:\n",
    "\n",
    "1. Python\n",
    "2. R\n",
    "3. SQL\n",
    "4. Julia"
   ]
  },
  {
   "cell_type": "markdown",
   "id": "a40bc492-3bb5-460b-a99b-9cab096a3e17",
   "metadata": {},
   "source": [
    "Some of the commonly used libraries used by Data Scientists include:\n",
    "\n",
    "1. Numpy\n",
    "2. Seaborn\n",
    "3. PyTorch\n",
    "4. Pandas\n",
    "5. Scikit-learn"
   ]
  },
  {
   "cell_type": "markdown",
   "id": "7efa0013-d736-4af6-b8f5-0ce3a865e3e1",
   "metadata": {},
   "source": [
    "|Data Science Tools|\n",
    "|-------------------|\n",
    "|Jupyter NoteBook|\n",
    "|Jupyter lab|\n",
    "|VS code|"
   ]
  },
  {
   "cell_type": "markdown",
   "id": "b71d0421-69b1-4144-93e4-131150d3b337",
   "metadata": {},
   "source": [
    "### Below are a few examples of evaluating arithmetic expressions in Python\n",
    "1+1\n",
    "2*4\n",
    "6-2\n",
    "6/2"
   ]
  },
  {
   "cell_type": "code",
   "execution_count": 10,
   "id": "f1ec13f8-4665-4c21-86c9-d81b5a38e48b",
   "metadata": {},
   "outputs": [
    {
     "data": {
      "text/plain": [
       "17"
      ]
     },
     "execution_count": 10,
     "metadata": {},
     "output_type": "execute_result"
    }
   ],
   "source": [
    "# This a simple arithmetic expression to multiply then add integers\n",
    "(3*4)+5"
   ]
  },
  {
   "cell_type": "code",
   "execution_count": 12,
   "id": "7e7b1a1e-d971-4a8a-89a6-f242322715fc",
   "metadata": {},
   "outputs": [
    {
     "data": {
      "text/plain": [
       "3.3333333333333335"
      ]
     },
     "execution_count": 12,
     "metadata": {},
     "output_type": "execute_result"
    }
   ],
   "source": [
    "# this will convert 200 minutes to hours by diving by 60\n",
    "200/60"
   ]
  },
  {
   "cell_type": "markdown",
   "id": "ef010825-f888-4ca9-ade3-d373cb22a115",
   "metadata": {},
   "source": [
    "## Author\n",
    "Akurati Hemanth Kumar"
   ]
  }
 ],
 "metadata": {
  "kernelspec": {
   "display_name": "Python 3 (ipykernel)",
   "language": "python",
   "name": "python3"
  },
  "language_info": {
   "codemirror_mode": {
    "name": "ipython",
    "version": 3
   },
   "file_extension": ".py",
   "mimetype": "text/x-python",
   "name": "python",
   "nbconvert_exporter": "python",
   "pygments_lexer": "ipython3",
   "version": "3.12.4"
  }
 },
 "nbformat": 4,
 "nbformat_minor": 5
}
